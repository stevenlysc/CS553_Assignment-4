{
 "metadata": {
  "name": "",
  "signature": "sha256:a26d80ab2097159b05ed5b164ddc9225b56749167075826c53edb97291642220"
 },
 "nbformat": 3,
 "nbformat_minor": 0,
 "worksheets": [
  {
   "cells": [
    {
     "cell_type": "code",
     "collapsed": false,
     "input": [
      "worker=[1,2,4,8,16]\n",
      "sleep=[1,2,4,8]\n",
      "for i in worker:\n",
      "    for j in sleep:\n",
      "        f = open(str(i)+'worker_'+str(j)+'s.txt', \"w\")\n",
      "        for k in range(0,80*i/j):\n",
      "            f.write('sleep '+str(j*1000)+\"\\n\")\n",
      "        f.close()\n",
      "    "
     ],
     "language": "python",
     "metadata": {},
     "outputs": [],
     "prompt_number": 2
    },
    {
     "cell_type": "code",
     "collapsed": false,
     "input": [
      "t"
     ],
     "language": "python",
     "metadata": {},
     "outputs": []
    }
   ],
   "metadata": {}
  }
 ]
}