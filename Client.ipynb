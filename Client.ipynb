{
 "metadata": {
  "name": "",
  "signature": "sha256:a376460a29918a98e6b51a49f8833d27d3cce74d553f26b0c9e7d2b895ccf5d0"
 },
 "nbformat": 3,
 "nbformat_minor": 0,
 "worksheets": [
  {
   "cells": [
    {
     "cell_type": "code",
     "collapsed": false,
     "input": [
      "import argparse\n",
      "import socket\n",
      "\n",
      "\n",
      "class Client(object):\n",
      "    def __init__(self, ip, port, workload_file, client_socket):\n",
      "        self.ip = ip\n",
      "        self.port = port\n",
      "        self.workload_file = workload_file\n",
      "        self.client_socket = client_socket\n",
      "        return\n",
      "    \n",
      "    def get_Tasks(self):\n",
      "        tasks = list()\n",
      "        try:\n",
      "            fstream = open(self.workload_file, 'r')\n",
      "            fline = fstream.readline()\n",
      "            while fline:\n",
      "                tasks.append(fline.replace('\\n', ''))\n",
      "                fline = fstream.readline()\n",
      "            fstream.close()\n",
      "        except IOError, e:\n",
      "            print e\n",
      "        return tasks\n",
      "    \n",
      "    def send_Tasks(self):\n",
      "        tasks = self.get_Tasks()\n",
      "        \n",
      "        for taskId in range(len(tasks)):\n",
      "            msg = 'Task {}: {}' .format(taskId, tasks[taskId])\n",
      "            self.client_socket.send(msg)\n",
      "            print '{} is sent to scheduler successfully' .format(msg)\n",
      "        \n",
      "        print 'All tasks have been sent to scheduler successfully.'\n",
      "        return\n",
      "    \n",
      "    def receive_Result(self):\n",
      "        print 'Waiting for the results...'\n",
      "        while True:  \n",
      "            result = self.client_socket.recv(1024)\n",
      "            if result:\n",
      "                print result\n",
      "            else:\n",
      "                pass\n",
      "        return\n",
      "    \n",
      "    # Test-Oriented Methods\n",
      "    def show_Args(self):\n",
      "        print 'client -s {}:{} -w {}' .format(self.ip, self.port, self.workload_file)\n",
      "        return\n",
      "    \n",
      "    def show_Tasks(self):\n",
      "        tasks = self.get_Tasks()\n",
      "        print tasks\n",
      "        return\n",
      "\n",
      "if __name__ == '__main__':\n",
      "    \n",
      "    # client -s <IP_ADDRESS:PORT> -w <WORKLOAD_FILE>\n",
      "    parser = argparse.ArgumentParser()\n",
      "    parser.add_argument('-s', metavar='IP_ADDRESS:PROT', type=str, required=True, \n",
      "                        help='the location of the front-end scheduler.')\n",
      "    parser.add_argument('-w', metavar='WORKLOAD_FILE', type=str, required=True, \n",
      "                        help='the local file that will store the tasks that need to be submitted to the scheduler.')\n",
      "\n",
      "    args = parser.parse_args()\n",
      "    if len(args) != 2:\n",
      "        print 'usage: client -s <IP_ADDRESS:PORT> -w <WORKLOAD_FILE>'\n",
      "        exit(-1)\n",
      "    \n",
      "    ip = args.s.split(':')[0]\n",
      "    port = args.s.split(':')[1]\n",
      "    workload_file = args.w\n",
      "    client_socket = socket.socket(socket.AF_INET, socket.SOCK_STREAM)\n",
      "    \n",
      "    client = Client(ip, port, workload_file, client_socket)\n",
      "    \n",
      "    client.show_Args()\n",
      "    client.show_Tasks()\n",
      "    \n",
      "    client.send_Tasks()\n",
      "    client.receive_Result()"
     ],
     "language": "python",
     "metadata": {},
     "outputs": [
      {
       "output_type": "stream",
       "stream": "stderr",
       "text": [
        "usage: -c [-h] -s IP_ADDRESS:PROT -w WORKLOAD_FILE\n",
        "-c: error: argument -s is required\n"
       ]
      },
      {
       "ename": "SystemExit",
       "evalue": "2",
       "output_type": "pyerr",
       "traceback": [
        "An exception has occurred, use %tb to see the full traceback.\n",
        "\u001b[0;31mSystemExit\u001b[0m\u001b[0;31m:\u001b[0m 2\n"
       ]
      },
      {
       "output_type": "stream",
       "stream": "stderr",
       "text": [
        "To exit: use 'exit', 'quit', or Ctrl-D.\n"
       ]
      }
     ],
     "prompt_number": 5
    }
   ],
   "metadata": {}
  }
 ]
}